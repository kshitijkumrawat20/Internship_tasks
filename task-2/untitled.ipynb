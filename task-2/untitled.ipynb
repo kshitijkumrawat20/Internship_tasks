{
  "cells": [
    {
      "cell_type": "code",
      "execution_count": 7,
      "metadata": {
        "colab": {
          "base_uri": "https://localhost:8080/"
        },
        "id": "VwyBYzKEaASn",
        "outputId": "84dcf628-6859-44e3-ac4e-b1b11b45c1c4"
      },
      "outputs": [
        {
          "name": "stdout",
          "output_type": "stream",
          "text": [
            "fatal: destination path 'MedQuAD' already exists and is not an empty directory.\n"
          ]
        }
      ],
      "source": [
        "# prompt: write a code to download git repo\n",
        "\n",
        "!git clone https://github.com/abachaa/MedQuAD.git\n"
      ]
    },
    {
      "cell_type": "code",
      "execution_count": 1,
      "metadata": {
        "colab": {
          "base_uri": "https://localhost:8080/"
        },
        "collapsed": true,
        "id": "lt_2L7oKa38D",
        "outputId": "016c22e0-04d5-4c0f-e0af-23e7fde59358"
      },
      "outputs": [
        {
          "name": "stdout",
          "output_type": "stream",
          "text": [
            "Total QA pairs parsed: 16407\n",
            "{'answer': 'What are the signs and symptoms of Deafness, autosomal dominant '\n",
            "           'nonsyndromic sensorineural 17? The Human Phenotype Ontology '\n",
            "           'provides the following list of signs and symptoms for Deafness, '\n",
            "           'autosomal dominant nonsyndromic sensorineural 17. If the '\n",
            "           'information is available, the table below includes how often the '\n",
            "           'symptom is seen in people with this condition. You can use the '\n",
            "           'MedlinePlus Medical Dictionary to look up the definitions for '\n",
            "           'these medical terms. Signs and Symptoms Approximate number of '\n",
            "           'patients (when available) Autosomal dominant inheritance - '\n",
            "           'High-frequency hearing impairment - Juvenile onset - The Human '\n",
            "           'Phenotype Ontology (HPO) has collected information on how often a '\n",
            "           'sign or symptom occurs in a condition. Much of this information '\n",
            "           'comes from Orphanet, a European rare disease database. The '\n",
            "           'frequency of a sign or symptom is usually listed as a rough '\n",
            "           'estimate of the percentage of patients who have that feature. The '\n",
            "           'frequency may also be listed as a fraction. The first number of '\n",
            "           'the fraction is how many people had the symptom, and the second '\n",
            "           'number is the total number of people who were examined in one '\n",
            "           'study. For example, a frequency of 25/25 means that in a study of '\n",
            "           '25 people all patients were found to have that symptom. Because '\n",
            "           'these frequencies are based on a specific study, the fractions may '\n",
            "           'be different if another group of patients are examined. Sometimes, '\n",
            "           'no information on frequency is available. In these cases, the sign '\n",
            "           'or symptom may be rare or common.',\n",
            " 'document_id': '0001746',\n",
            " 'focus': 'Deafness, autosomal dominant nonsyndromic sensorineural 17',\n",
            " 'question': 'What are the symptoms of Deafness, autosomal dominant '\n",
            "             'nonsyndromic sensorineural 17 ?',\n",
            " 'question_type': 'symptoms'}\n"
          ]
        }
      ],
      "source": [
        "import os\n",
        "import xml.etree.ElementTree as ET\n",
        "\n",
        "def extract_text(element):\n",
        "    \"\"\"\n",
        "    Extracts text content from an XML element, including its children.\n",
        "    \"\"\"\n",
        "    if element is None:\n",
        "        return \"No data provided\"\n",
        "    # Join the text of the element and all its sub-elements\n",
        "    return \"\".join(element.itertext()).strip() or \"No data provided\"\n",
        "\n",
        "def parse_medquad_directory(base_directory):\n",
        "    all_qa_pairs = []\n",
        "\n",
        "    # Traverse through all subdirectories and files\n",
        "    for root_dir, _, files in os.walk(base_directory):\n",
        "        for file in files:\n",
        "            if file.endswith(\".xml\"):\n",
        "                file_path = os.path.join(root_dir, file)\n",
        "\n",
        "                try:\n",
        "                    # Parse each XML file\n",
        "                    tree = ET.parse(file_path)\n",
        "                    root = tree.getroot()\n",
        "\n",
        "                    # Extract focus and questions-answers\n",
        "                    document_id = root.attrib.get(\"id\", \"Unknown\")\n",
        "                    focus = extract_text(root.find(\"Focus\"))\n",
        "\n",
        "                    for qa_pair in root.findall(\".//QAPair\"):\n",
        "                        question = extract_text(qa_pair.find(\"Question\"))\n",
        "                        answer = extract_text(qa_pair.find(\"Answer\"))\n",
        "                        question_type = qa_pair.find(\"Question\").attrib.get(\"qtype\", \"Unknown\")\n",
        "                        if answer==\"No data provided\":\n",
        "                            continue\n",
        "                        else :\n",
        "                          all_qa_pairs.append({\n",
        "                              \"document_id\": document_id,\n",
        "                              \"focus\": focus,\n",
        "                              \"question\": question,\n",
        "                              \"answer\": answer,\n",
        "                              \"question_type\": question_type\n",
        "                          })\n",
        "                except Exception as e:\n",
        "                    print(f\"Error parsing file {file_path}: {e}\")\n",
        "\n",
        "    return all_qa_pairs\n",
        "\n",
        "# Path to the MedQuAD directory\n",
        "base_directory = \"MedQuAD\"\n",
        "\n",
        "# Parse the dataset\n",
        "qa_pairs = parse_medquad_directory(base_directory)\n",
        "print(f\"Total QA pairs parsed: {len(qa_pairs)}\")\n",
        "\n",
        "# Display the first QA pair as a check\n",
        "import pprint\n",
        "pprint.pprint(qa_pairs[2000] if qa_pairs else \"No QA pairs found.\")\n"
      ]
    },
    {
      "cell_type": "code",
      "execution_count": 2,
      "metadata": {
        "colab": {
          "base_uri": "https://localhost:8080/"
        },
        "id": "sLh5tYffNsfe",
        "outputId": "0c56910b-f97c-4784-ac3a-72e2b26167d2"
      },
      "outputs": [
        {
          "name": "stdout",
          "output_type": "stream",
          "text": [
            "Requirement already satisfied: faiss-cpu in c:\\users\\hp\\appdata\\local\\programs\\python\\python312\\lib\\site-packages (1.8.0.post1)Note: you may need to restart the kernel to use updated packages.\n"
          ]
        },
        {
          "name": "stderr",
          "output_type": "stream",
          "text": [
            "WARNING: Ignoring invalid distribution ~umpy (c:\\Users\\hp\\AppData\\Local\\Programs\\Python\\Python312\\Lib\\site-packages)\n",
            "WARNING: Ignoring invalid distribution ~umpy (c:\\Users\\hp\\AppData\\Local\\Programs\\Python\\Python312\\Lib\\site-packages)\n",
            "WARNING: Ignoring invalid distribution ~umpy (c:\\Users\\hp\\AppData\\Local\\Programs\\Python\\Python312\\Lib\\site-packages)\n",
            "\n",
            "[notice] A new release of pip is available: 24.2 -> 24.3.1\n",
            "[notice] To update, run: python.exe -m pip install --upgrade pip\n"
          ]
        },
        {
          "name": "stdout",
          "output_type": "stream",
          "text": [
            "\n",
            "Requirement already satisfied: numpy<2.0,>=1.0 in c:\\users\\hp\\appdata\\local\\programs\\python\\python312\\lib\\site-packages (from faiss-cpu) (1.26.4)\n",
            "Requirement already satisfied: packaging in c:\\users\\hp\\appdata\\local\\programs\\python\\python312\\lib\\site-packages (from faiss-cpu) (23.2)\n"
          ]
        }
      ],
      "source": [
        "%pip install faiss-cpu"
      ]
    },
    {
      "cell_type": "code",
      "execution_count": 3,
      "metadata": {
        "id": "lGS3Tf2qKwj3"
      },
      "outputs": [
        {
          "name": "stderr",
          "output_type": "stream",
          "text": [
            "c:\\Users\\hp\\AppData\\Local\\Programs\\Python\\Python312\\Lib\\site-packages\\sentence_transformers\\cross_encoder\\CrossEncoder.py:11: TqdmWarning: IProgress not found. Please update jupyter and ipywidgets. See https://ipywidgets.readthedocs.io/en/stable/user_install.html\n",
            "  from tqdm.autonotebook import tqdm, trange\n",
            "c:\\Users\\hp\\AppData\\Local\\Programs\\Python\\Python312\\Lib\\site-packages\\transformers\\tokenization_utils_base.py:1601: FutureWarning: `clean_up_tokenization_spaces` was not set. It will be set to `True` by default. This behavior will be depracted in transformers v4.45, and will be then set to `False` by default. For more details check this issue: https://github.com/huggingface/transformers/issues/31884\n",
            "  warnings.warn(\n"
          ]
        }
      ],
      "source": [
        "from sentence_transformers import SentenceTransformer\n",
        "import faiss\n",
        "import numpy as np\n",
        "\n",
        "# Load a pre-trained embedding model\n",
        "model = SentenceTransformer('all-MiniLM-L6-v2')\n",
        "\n",
        "# Prepare embeddings for the dataset\n",
        "questions = [qa['question'] for qa in qa_pairs]\n",
        "embeddings = model.encode(questions)\n",
        "\n",
        "# Create a FAISS index\n",
        "dimension = embeddings.shape[1]\n",
        "faiss_index = faiss.IndexFlatL2(dimension)\n",
        "faiss_index.add(np.array(embeddings))\n",
        "\n",
        "# Mapping index to Q&A data\n",
        "qa_mapping = {i: qa for i, qa in enumerate(qa_pairs)}\n",
        "\n",
        "# Retrieval function\n",
        "def retrieve_answer(user_query):\n",
        "    query_embedding = model.encode([user_query])\n",
        "    _, indices = faiss_index.search(query_embedding, k=1)  \n",
        "    closest_idx = indices[0][0]\n",
        "    return qa_mapping[closest_idx]\n"
      ]
    },
    {
      "cell_type": "code",
      "execution_count": 4,
      "metadata": {
        "colab": {
          "base_uri": "https://localhost:8080/"
        },
        "id": "R8qicITpOmc6",
        "outputId": "5e562a47-c390-45f1-a757-2667a79ec271"
      },
      "outputs": [
        {
          "name": "stdout",
          "output_type": "stream",
          "text": [
            "{'answer': 'Acid lipase disease or deficiency occurs when the enzyme needed to '\n",
            "           'break down certain fats that are normally digested by the body is '\n",
            "           'lacking or missing, resulting in the toxic buildup of these fats '\n",
            "           'in the bodys cells and tissues. These fatty substances, called '\n",
            "           'lipids, include fatty acids, oils, and cholesterol. Two rare lipid '\n",
            "           'storage diseases are caused by the deficiency of the enzyme '\n",
            "           'lysosomal acid lipase:\\n'\n",
            "           '                \\n'\n",
            "           'Wolmans disease (also known as acid lipase deficiency) is an '\n",
            "           'autosomal recessive disorder marked by the buildup of cholesteryl '\n",
            "           'esters (normally a tranport form of cholesterol that brings '\n",
            "           'nutrients into the cells and carries out waste) and triglycerides '\n",
            "           '(a chemical form in which fats exist in the body). Infants with '\n",
            "           'the disorder appear normal at birth but quickly develop '\n",
            "           'progressive mental deterioration, low muscle tone,enlarged liver '\n",
            "           'and grossly enlarged spleen, gastrointestinal problems including '\n",
            "           'an excessive amount of fats in the stools, jaundice, anemia, '\n",
            "           'vomiting, and calcium deposits in the adrenal glands, which causes '\n",
            "           'them to harden. Both male and female infants are affected by the '\n",
            "           'disorder.\\n'\n",
            "           '                \\n'\n",
            "           'Cholesteryl ester storage disease (CESD) is an extremely rare '\n",
            "           'disorder that results from storage of cholesteryl esters and '\n",
            "           'triglycerides in cells in the blood and lymph and lymphoid tissue. '\n",
            "           'Children develop an enlarged liver, leading to cirrhosis and '\n",
            "           'chronic liver failure before adulthood. Children may also develop '\n",
            "           'calcium deposits in the adrenal glands and jaundice. Onset varies, '\n",
            "           'and the disorder may not be diagnosed until adulthood.',\n",
            " 'document_id': '0000002',\n",
            " 'focus': 'Acid Lipase Disease',\n",
            " 'question': 'What is (are) Acid Lipase Disease ?',\n",
            " 'question_type': 'information'}\n"
          ]
        }
      ],
      "source": [
        "query = \"What is (are) Acid Lipase Disease ?\"\n",
        "result = retrieve_answer(query)\n",
        "pprint.pprint(result)"
      ]
    },
    {
      "cell_type": "code",
      "execution_count": 5,
      "metadata": {},
      "outputs": [],
      "source": [
        "import faiss\n",
        "import pickle\n",
        "\n",
        "# Save the FAISS index\n",
        "faiss.write_index(faiss_index, \"faiss_index.bin\")\n",
        "\n",
        "with open(\"qa_mapping.pkl\", \"wb\") as f:\n",
        "    pickle.dump(qa_mapping, f)\n"
      ]
    }
  ],
  "metadata": {
    "colab": {
      "provenance": []
    },
    "kernelspec": {
      "display_name": "Python 3",
      "name": "python3"
    },
    "language_info": {
      "codemirror_mode": {
        "name": "ipython",
        "version": 3
      },
      "file_extension": ".py",
      "mimetype": "text/x-python",
      "name": "python",
      "nbconvert_exporter": "python",
      "pygments_lexer": "ipython3",
      "version": "3.12.4"
    }
  },
  "nbformat": 4,
  "nbformat_minor": 0
}
